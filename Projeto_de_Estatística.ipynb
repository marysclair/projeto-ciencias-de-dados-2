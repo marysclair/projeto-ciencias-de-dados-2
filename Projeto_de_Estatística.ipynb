{
  "cells": [
    {
      "cell_type": "markdown",
      "source": [
        "# **Projeto de Estatística** - Best Selling Albums By Duration (1990-2021)\n",
        "\n",
        "\n",
        "\n",
        "> O objetivo deste trabalho é analisar a duração dos álbuns nos últimos anos, além de verificar em quais gêneros musicais essa mudança foi mais significante.\n",
        "\n",
        "\n",
        "> Base de dados utilizada: https://www.kaggle.com/datasets/nickadair44/top-10-annual-best-selling-albums-by-length?resource=download\n",
        "\n"
      ],
      "metadata": {
        "id": "UMDJUcmcCZgY"
      }
    },
    {
      "cell_type": "markdown",
      "source": [
        "## **Fase inicial - Tratamento dos dados**"
      ],
      "metadata": {
        "id": "EobCl2x7EEl3"
      }
    },
    {
      "cell_type": "markdown",
      "metadata": {
        "id": "rrGAs-Nux8RP"
      },
      "source": [
        "\n",
        "\n",
        "*   Importando a biblioteca do pandas (que irá manipular os dados da nossa base de dados)"
      ]
    },
    {
      "cell_type": "code",
      "execution_count": null,
      "metadata": {
        "id": "uGfQGOhoxq-M"
      },
      "outputs": [],
      "source": [
        "import pandas as pd"
      ]
    },
    {
      "cell_type": "markdown",
      "metadata": {
        "id": "HyI9FTt6D0HI"
      },
      "source": [
        "\n",
        "\n",
        "*   Importando a base de dados"
      ]
    },
    {
      "cell_type": "code",
      "execution_count": null,
      "metadata": {
        "colab": {
          "base_uri": "https://localhost:8080/",
          "height": 554
        },
        "id": "mKXG_JCPx6Xp",
        "outputId": "073b63f3-2921-4ac2-8651-35853698099a"
      },
      "outputs": [
        {
          "output_type": "display_data",
          "data": {
            "text/plain": [
              "     Year  Ranking               Artist  \\\n",
              "0    2019        8               Arashi   \n",
              "1    2017        8           Elton John   \n",
              "2    1995        4      Michael Jackson   \n",
              "3    2015        6  Broadway Soundtrack   \n",
              "4    2003       10              Outkast   \n",
              "..    ...      ...                  ...   \n",
              "315  2009       10        Justin Bieber   \n",
              "316  2019        9                 R1SE   \n",
              "317  2020        9            Blackpink   \n",
              "318  2021        6            Cai Xukun   \n",
              "319  2021        8            Seventeen   \n",
              "\n",
              "                                      Album Worldwide Sales (Est.)  CDs  \\\n",
              "0             5x20 All The Best!! 1999-2019              3,300,000    4   \n",
              "1                                  Diamonds              3,220,000    2   \n",
              "2    History: Past, Present & Future Book I             20,000,000    2   \n",
              "3                                  Hamilton              4,835,000    2   \n",
              "4             Speakerboxxx / The Love Below              7,012,000    2   \n",
              "..                                      ...                    ...  ...   \n",
              "315                                My World              3,980,000    1   \n",
              "316               Going To Powerfully Burst              3,080,507    1   \n",
              "317                               The Album              2,947,398    1   \n",
              "318                                       迷              3,402,981    1   \n",
              "319                                 Attacca              2,401,368    1   \n",
              "\n",
              "     Tracks Album Length  Hours  Minutes  Seconds    Genre  \n",
              "0        67      5:04:02   5.07   304.03    18242      Pop  \n",
              "1        34      2:35:47   2.60   155.78     9347     Rock  \n",
              "2        30      2:28:51   2.48   148.85     8931      Pop  \n",
              "3        46      2:22:13   2.37   142.22     8533  Hip Hop  \n",
              "4        39      2:14:39   2.24   134.65     8079  Hip Hop  \n",
              "..      ...          ...    ...      ...      ...      ...  \n",
              "315       7      0:25:58   0.43    25.97     1558      Pop  \n",
              "316       7      0:25:22   0.42    25.37     1522      Pop  \n",
              "317       8      0:24:28   0.41    24.47     1468      Pop  \n",
              "318      11      0:24:16   0.40    24.27     1456  Hip Hop  \n",
              "319       6      0:19:26   0.32    19.43     1166      Pop  \n",
              "\n",
              "[320 rows x 12 columns]"
            ],
            "text/html": [
              "\n",
              "  <div id=\"df-16035261-fab7-4966-8d39-bbfc7ce2b987\">\n",
              "    <div class=\"colab-df-container\">\n",
              "      <div>\n",
              "<style scoped>\n",
              "    .dataframe tbody tr th:only-of-type {\n",
              "        vertical-align: middle;\n",
              "    }\n",
              "\n",
              "    .dataframe tbody tr th {\n",
              "        vertical-align: top;\n",
              "    }\n",
              "\n",
              "    .dataframe thead th {\n",
              "        text-align: right;\n",
              "    }\n",
              "</style>\n",
              "<table border=\"1\" class=\"dataframe\">\n",
              "  <thead>\n",
              "    <tr style=\"text-align: right;\">\n",
              "      <th></th>\n",
              "      <th>Year</th>\n",
              "      <th>Ranking</th>\n",
              "      <th>Artist</th>\n",
              "      <th>Album</th>\n",
              "      <th>Worldwide Sales (Est.)</th>\n",
              "      <th>CDs</th>\n",
              "      <th>Tracks</th>\n",
              "      <th>Album Length</th>\n",
              "      <th>Hours</th>\n",
              "      <th>Minutes</th>\n",
              "      <th>Seconds</th>\n",
              "      <th>Genre</th>\n",
              "    </tr>\n",
              "  </thead>\n",
              "  <tbody>\n",
              "    <tr>\n",
              "      <th>0</th>\n",
              "      <td>2019</td>\n",
              "      <td>8</td>\n",
              "      <td>Arashi</td>\n",
              "      <td>5x20 All The Best!! 1999-2019</td>\n",
              "      <td>3,300,000</td>\n",
              "      <td>4</td>\n",
              "      <td>67</td>\n",
              "      <td>5:04:02</td>\n",
              "      <td>5.07</td>\n",
              "      <td>304.03</td>\n",
              "      <td>18242</td>\n",
              "      <td>Pop</td>\n",
              "    </tr>\n",
              "    <tr>\n",
              "      <th>1</th>\n",
              "      <td>2017</td>\n",
              "      <td>8</td>\n",
              "      <td>Elton John</td>\n",
              "      <td>Diamonds</td>\n",
              "      <td>3,220,000</td>\n",
              "      <td>2</td>\n",
              "      <td>34</td>\n",
              "      <td>2:35:47</td>\n",
              "      <td>2.60</td>\n",
              "      <td>155.78</td>\n",
              "      <td>9347</td>\n",
              "      <td>Rock</td>\n",
              "    </tr>\n",
              "    <tr>\n",
              "      <th>2</th>\n",
              "      <td>1995</td>\n",
              "      <td>4</td>\n",
              "      <td>Michael Jackson</td>\n",
              "      <td>History: Past, Present &amp; Future Book I</td>\n",
              "      <td>20,000,000</td>\n",
              "      <td>2</td>\n",
              "      <td>30</td>\n",
              "      <td>2:28:51</td>\n",
              "      <td>2.48</td>\n",
              "      <td>148.85</td>\n",
              "      <td>8931</td>\n",
              "      <td>Pop</td>\n",
              "    </tr>\n",
              "    <tr>\n",
              "      <th>3</th>\n",
              "      <td>2015</td>\n",
              "      <td>6</td>\n",
              "      <td>Broadway Soundtrack</td>\n",
              "      <td>Hamilton</td>\n",
              "      <td>4,835,000</td>\n",
              "      <td>2</td>\n",
              "      <td>46</td>\n",
              "      <td>2:22:13</td>\n",
              "      <td>2.37</td>\n",
              "      <td>142.22</td>\n",
              "      <td>8533</td>\n",
              "      <td>Hip Hop</td>\n",
              "    </tr>\n",
              "    <tr>\n",
              "      <th>4</th>\n",
              "      <td>2003</td>\n",
              "      <td>10</td>\n",
              "      <td>Outkast</td>\n",
              "      <td>Speakerboxxx / The Love Below</td>\n",
              "      <td>7,012,000</td>\n",
              "      <td>2</td>\n",
              "      <td>39</td>\n",
              "      <td>2:14:39</td>\n",
              "      <td>2.24</td>\n",
              "      <td>134.65</td>\n",
              "      <td>8079</td>\n",
              "      <td>Hip Hop</td>\n",
              "    </tr>\n",
              "    <tr>\n",
              "      <th>...</th>\n",
              "      <td>...</td>\n",
              "      <td>...</td>\n",
              "      <td>...</td>\n",
              "      <td>...</td>\n",
              "      <td>...</td>\n",
              "      <td>...</td>\n",
              "      <td>...</td>\n",
              "      <td>...</td>\n",
              "      <td>...</td>\n",
              "      <td>...</td>\n",
              "      <td>...</td>\n",
              "      <td>...</td>\n",
              "    </tr>\n",
              "    <tr>\n",
              "      <th>315</th>\n",
              "      <td>2009</td>\n",
              "      <td>10</td>\n",
              "      <td>Justin Bieber</td>\n",
              "      <td>My World</td>\n",
              "      <td>3,980,000</td>\n",
              "      <td>1</td>\n",
              "      <td>7</td>\n",
              "      <td>0:25:58</td>\n",
              "      <td>0.43</td>\n",
              "      <td>25.97</td>\n",
              "      <td>1558</td>\n",
              "      <td>Pop</td>\n",
              "    </tr>\n",
              "    <tr>\n",
              "      <th>316</th>\n",
              "      <td>2019</td>\n",
              "      <td>9</td>\n",
              "      <td>R1SE</td>\n",
              "      <td>Going To Powerfully Burst</td>\n",
              "      <td>3,080,507</td>\n",
              "      <td>1</td>\n",
              "      <td>7</td>\n",
              "      <td>0:25:22</td>\n",
              "      <td>0.42</td>\n",
              "      <td>25.37</td>\n",
              "      <td>1522</td>\n",
              "      <td>Pop</td>\n",
              "    </tr>\n",
              "    <tr>\n",
              "      <th>317</th>\n",
              "      <td>2020</td>\n",
              "      <td>9</td>\n",
              "      <td>Blackpink</td>\n",
              "      <td>The Album</td>\n",
              "      <td>2,947,398</td>\n",
              "      <td>1</td>\n",
              "      <td>8</td>\n",
              "      <td>0:24:28</td>\n",
              "      <td>0.41</td>\n",
              "      <td>24.47</td>\n",
              "      <td>1468</td>\n",
              "      <td>Pop</td>\n",
              "    </tr>\n",
              "    <tr>\n",
              "      <th>318</th>\n",
              "      <td>2021</td>\n",
              "      <td>6</td>\n",
              "      <td>Cai Xukun</td>\n",
              "      <td>迷</td>\n",
              "      <td>3,402,981</td>\n",
              "      <td>1</td>\n",
              "      <td>11</td>\n",
              "      <td>0:24:16</td>\n",
              "      <td>0.40</td>\n",
              "      <td>24.27</td>\n",
              "      <td>1456</td>\n",
              "      <td>Hip Hop</td>\n",
              "    </tr>\n",
              "    <tr>\n",
              "      <th>319</th>\n",
              "      <td>2021</td>\n",
              "      <td>8</td>\n",
              "      <td>Seventeen</td>\n",
              "      <td>Attacca</td>\n",
              "      <td>2,401,368</td>\n",
              "      <td>1</td>\n",
              "      <td>6</td>\n",
              "      <td>0:19:26</td>\n",
              "      <td>0.32</td>\n",
              "      <td>19.43</td>\n",
              "      <td>1166</td>\n",
              "      <td>Pop</td>\n",
              "    </tr>\n",
              "  </tbody>\n",
              "</table>\n",
              "<p>320 rows × 12 columns</p>\n",
              "</div>\n",
              "      <button class=\"colab-df-convert\" onclick=\"convertToInteractive('df-16035261-fab7-4966-8d39-bbfc7ce2b987')\"\n",
              "              title=\"Convert this dataframe to an interactive table.\"\n",
              "              style=\"display:none;\">\n",
              "        \n",
              "  <svg xmlns=\"http://www.w3.org/2000/svg\" height=\"24px\"viewBox=\"0 0 24 24\"\n",
              "       width=\"24px\">\n",
              "    <path d=\"M0 0h24v24H0V0z\" fill=\"none\"/>\n",
              "    <path d=\"M18.56 5.44l.94 2.06.94-2.06 2.06-.94-2.06-.94-.94-2.06-.94 2.06-2.06.94zm-11 1L8.5 8.5l.94-2.06 2.06-.94-2.06-.94L8.5 2.5l-.94 2.06-2.06.94zm10 10l.94 2.06.94-2.06 2.06-.94-2.06-.94-.94-2.06-.94 2.06-2.06.94z\"/><path d=\"M17.41 7.96l-1.37-1.37c-.4-.4-.92-.59-1.43-.59-.52 0-1.04.2-1.43.59L10.3 9.45l-7.72 7.72c-.78.78-.78 2.05 0 2.83L4 21.41c.39.39.9.59 1.41.59.51 0 1.02-.2 1.41-.59l7.78-7.78 2.81-2.81c.8-.78.8-2.07 0-2.86zM5.41 20L4 18.59l7.72-7.72 1.47 1.35L5.41 20z\"/>\n",
              "  </svg>\n",
              "      </button>\n",
              "      \n",
              "  <style>\n",
              "    .colab-df-container {\n",
              "      display:flex;\n",
              "      flex-wrap:wrap;\n",
              "      gap: 12px;\n",
              "    }\n",
              "\n",
              "    .colab-df-convert {\n",
              "      background-color: #E8F0FE;\n",
              "      border: none;\n",
              "      border-radius: 50%;\n",
              "      cursor: pointer;\n",
              "      display: none;\n",
              "      fill: #1967D2;\n",
              "      height: 32px;\n",
              "      padding: 0 0 0 0;\n",
              "      width: 32px;\n",
              "    }\n",
              "\n",
              "    .colab-df-convert:hover {\n",
              "      background-color: #E2EBFA;\n",
              "      box-shadow: 0px 1px 2px rgba(60, 64, 67, 0.3), 0px 1px 3px 1px rgba(60, 64, 67, 0.15);\n",
              "      fill: #174EA6;\n",
              "    }\n",
              "\n",
              "    [theme=dark] .colab-df-convert {\n",
              "      background-color: #3B4455;\n",
              "      fill: #D2E3FC;\n",
              "    }\n",
              "\n",
              "    [theme=dark] .colab-df-convert:hover {\n",
              "      background-color: #434B5C;\n",
              "      box-shadow: 0px 1px 3px 1px rgba(0, 0, 0, 0.15);\n",
              "      filter: drop-shadow(0px 1px 2px rgba(0, 0, 0, 0.3));\n",
              "      fill: #FFFFFF;\n",
              "    }\n",
              "  </style>\n",
              "\n",
              "      <script>\n",
              "        const buttonEl =\n",
              "          document.querySelector('#df-16035261-fab7-4966-8d39-bbfc7ce2b987 button.colab-df-convert');\n",
              "        buttonEl.style.display =\n",
              "          google.colab.kernel.accessAllowed ? 'block' : 'none';\n",
              "\n",
              "        async function convertToInteractive(key) {\n",
              "          const element = document.querySelector('#df-16035261-fab7-4966-8d39-bbfc7ce2b987');\n",
              "          const dataTable =\n",
              "            await google.colab.kernel.invokeFunction('convertToInteractive',\n",
              "                                                     [key], {});\n",
              "          if (!dataTable) return;\n",
              "\n",
              "          const docLinkHtml = 'Like what you see? Visit the ' +\n",
              "            '<a target=\"_blank\" href=https://colab.research.google.com/notebooks/data_table.ipynb>data table notebook</a>'\n",
              "            + ' to learn more about interactive tables.';\n",
              "          element.innerHTML = '';\n",
              "          dataTable['output_type'] = 'display_data';\n",
              "          await google.colab.output.renderOutput(dataTable, element);\n",
              "          const docLink = document.createElement('div');\n",
              "          docLink.innerHTML = docLinkHtml;\n",
              "          element.appendChild(docLink);\n",
              "        }\n",
              "      </script>\n",
              "    </div>\n",
              "  </div>\n",
              "  "
            ]
          },
          "metadata": {}
        }
      ],
      "source": [
        "dados = pd.read_csv(\"/content/Top 10 Albums By Year Album Length - Sheet1.csv\")\n",
        "display(dados)"
      ]
    },
    {
      "cell_type": "markdown",
      "metadata": {
        "id": "k0cFrTP5zQcg"
      },
      "source": [
        "\n",
        "*   Verificando a existência de dados nulos na base e vendo as informações dos dados\n",
        "\n"
      ]
    },
    {
      "cell_type": "code",
      "execution_count": null,
      "metadata": {
        "colab": {
          "base_uri": "https://localhost:8080/"
        },
        "id": "RP4jvhZ9zCP1",
        "outputId": "7859677c-7db0-4b87-96e7-4f4a5a165f77"
      },
      "outputs": [
        {
          "output_type": "execute_result",
          "data": {
            "text/plain": [
              "Year                      0\n",
              "Ranking                   0\n",
              "Artist                    0\n",
              "Album                     0\n",
              "Worldwide Sales (Est.)    0\n",
              "CDs                       0\n",
              "Tracks                    0\n",
              "Album Length              0\n",
              "Hours                     0\n",
              "Minutes                   0\n",
              "Seconds                   0\n",
              "Genre                     0\n",
              "dtype: int64"
            ]
          },
          "metadata": {},
          "execution_count": 3
        }
      ],
      "source": [
        "# verificando se existe numeros nulos\n",
        "dados.isnull().sum()"
      ]
    },
    {
      "cell_type": "code",
      "execution_count": null,
      "metadata": {
        "colab": {
          "base_uri": "https://localhost:8080/"
        },
        "id": "pU5AxOwjzY7k",
        "outputId": "c476ef12-1eeb-498a-bd06-07a4a9d2d86b"
      },
      "outputs": [
        {
          "output_type": "stream",
          "name": "stdout",
          "text": [
            "<class 'pandas.core.frame.DataFrame'>\n",
            "RangeIndex: 320 entries, 0 to 319\n",
            "Data columns (total 12 columns):\n",
            " #   Column                  Non-Null Count  Dtype  \n",
            "---  ------                  --------------  -----  \n",
            " 0   Year                    320 non-null    int64  \n",
            " 1   Ranking                 320 non-null    int64  \n",
            " 2   Artist                  320 non-null    object \n",
            " 3   Album                   320 non-null    object \n",
            " 4   Worldwide Sales (Est.)  320 non-null    object \n",
            " 5   CDs                     320 non-null    int64  \n",
            " 6   Tracks                  320 non-null    int64  \n",
            " 7   Album Length            320 non-null    object \n",
            " 8   Hours                   320 non-null    float64\n",
            " 9   Minutes                 320 non-null    float64\n",
            " 10  Seconds                 320 non-null    int64  \n",
            " 11  Genre                   320 non-null    object \n",
            "dtypes: float64(2), int64(5), object(5)\n",
            "memory usage: 30.1+ KB\n"
          ]
        }
      ],
      "source": [
        "# verificando os tipos dos dados de cada coluna\n",
        "dados.info()"
      ]
    },
    {
      "cell_type": "markdown",
      "source": [
        "\n",
        "\n",
        "*   Tratamento da base\n",
        "\n"
      ],
      "metadata": {
        "id": "bEKJVor_EeHc"
      }
    },
    {
      "cell_type": "code",
      "execution_count": null,
      "metadata": {
        "id": "n26p0Dwl2bYE"
      },
      "outputs": [],
      "source": [
        "# renomeando a coluna para não dar erro\n",
        "dados = dados.rename({'Album Length': 'Album_Length'}, axis = 1)"
      ]
    },
    {
      "cell_type": "code",
      "execution_count": null,
      "metadata": {
        "id": "iSzfUsEo19WI"
      },
      "outputs": [],
      "source": [
        "# renomeando a coluna para não dar erro\n",
        "dados = dados.rename({'Worldwide Sales (Est.)': 'Worldwide_Sales_Est'}, axis = 1)"
      ]
    },
    {
      "cell_type": "code",
      "execution_count": null,
      "metadata": {
        "id": "nrXD8leO4io-"
      },
      "outputs": [],
      "source": [
        "# convertendo tipo de string para float\n",
        "dados[\"Worldwide_Sales_Est\"] = dados[\"Worldwide_Sales_Est\"].str.replace(',','').replace(',','.').astype(float)"
      ]
    },
    {
      "cell_type": "code",
      "execution_count": null,
      "metadata": {
        "colab": {
          "base_uri": "https://localhost:8080/"
        },
        "id": "a-ZnyyzA-lJU",
        "outputId": "913e6e90-e3c9-4cbf-ecfd-dc2400cc8f1a"
      },
      "outputs": [
        {
          "output_type": "stream",
          "name": "stdout",
          "text": [
            "<class 'pandas.core.frame.DataFrame'>\n",
            "RangeIndex: 320 entries, 0 to 319\n",
            "Data columns (total 12 columns):\n",
            " #   Column               Non-Null Count  Dtype  \n",
            "---  ------               --------------  -----  \n",
            " 0   Year                 320 non-null    int64  \n",
            " 1   Ranking              320 non-null    int64  \n",
            " 2   Artist               320 non-null    object \n",
            " 3   Album                320 non-null    object \n",
            " 4   Worldwide_Sales_Est  320 non-null    float64\n",
            " 5   CDs                  320 non-null    int64  \n",
            " 6   Tracks               320 non-null    int64  \n",
            " 7   Album_Length         320 non-null    object \n",
            " 8   Hours                320 non-null    float64\n",
            " 9   Minutes              320 non-null    float64\n",
            " 10  Seconds              320 non-null    int64  \n",
            " 11  Genre                320 non-null    object \n",
            "dtypes: float64(3), int64(5), object(4)\n",
            "memory usage: 30.1+ KB\n"
          ]
        }
      ],
      "source": [
        "# verificando se a conversão deu certo\n",
        "dados.info()"
      ]
    },
    {
      "cell_type": "code",
      "execution_count": null,
      "metadata": {
        "colab": {
          "base_uri": "https://localhost:8080/",
          "height": 537
        },
        "id": "tFNNQskO2RyZ",
        "outputId": "6d28ffe9-40c2-4e77-8620-258b6989bfb2"
      },
      "outputs": [
        {
          "output_type": "display_data",
          "data": {
            "text/plain": [
              "     Year  Ranking               Artist  \\\n",
              "0    2019        8               Arashi   \n",
              "1    2017        8           Elton John   \n",
              "2    1995        4      Michael Jackson   \n",
              "3    2015        6  Broadway Soundtrack   \n",
              "4    2003       10              Outkast   \n",
              "..    ...      ...                  ...   \n",
              "315  2009       10        Justin Bieber   \n",
              "316  2019        9                 R1SE   \n",
              "317  2020        9            Blackpink   \n",
              "318  2021        6            Cai Xukun   \n",
              "319  2021        8            Seventeen   \n",
              "\n",
              "                                      Album  Worldwide_Sales_Est  CDs  Tracks  \\\n",
              "0             5x20 All The Best!! 1999-2019            3300000.0    4      67   \n",
              "1                                  Diamonds            3220000.0    2      34   \n",
              "2    History: Past, Present & Future Book I           20000000.0    2      30   \n",
              "3                                  Hamilton            4835000.0    2      46   \n",
              "4             Speakerboxxx / The Love Below            7012000.0    2      39   \n",
              "..                                      ...                  ...  ...     ...   \n",
              "315                                My World            3980000.0    1       7   \n",
              "316               Going To Powerfully Burst            3080507.0    1       7   \n",
              "317                               The Album            2947398.0    1       8   \n",
              "318                                       迷            3402981.0    1      11   \n",
              "319                                 Attacca            2401368.0    1       6   \n",
              "\n",
              "    Album_Length  Hours  Minutes  Seconds    Genre  \n",
              "0        5:04:02   5.07   304.03    18242      Pop  \n",
              "1        2:35:47   2.60   155.78     9347     Rock  \n",
              "2        2:28:51   2.48   148.85     8931      Pop  \n",
              "3        2:22:13   2.37   142.22     8533  Hip Hop  \n",
              "4        2:14:39   2.24   134.65     8079  Hip Hop  \n",
              "..           ...    ...      ...      ...      ...  \n",
              "315      0:25:58   0.43    25.97     1558      Pop  \n",
              "316      0:25:22   0.42    25.37     1522      Pop  \n",
              "317      0:24:28   0.41    24.47     1468      Pop  \n",
              "318      0:24:16   0.40    24.27     1456  Hip Hop  \n",
              "319      0:19:26   0.32    19.43     1166      Pop  \n",
              "\n",
              "[320 rows x 12 columns]"
            ],
            "text/html": [
              "\n",
              "  <div id=\"df-6857973e-2183-4c4f-88fc-1bdbf9449748\">\n",
              "    <div class=\"colab-df-container\">\n",
              "      <div>\n",
              "<style scoped>\n",
              "    .dataframe tbody tr th:only-of-type {\n",
              "        vertical-align: middle;\n",
              "    }\n",
              "\n",
              "    .dataframe tbody tr th {\n",
              "        vertical-align: top;\n",
              "    }\n",
              "\n",
              "    .dataframe thead th {\n",
              "        text-align: right;\n",
              "    }\n",
              "</style>\n",
              "<table border=\"1\" class=\"dataframe\">\n",
              "  <thead>\n",
              "    <tr style=\"text-align: right;\">\n",
              "      <th></th>\n",
              "      <th>Year</th>\n",
              "      <th>Ranking</th>\n",
              "      <th>Artist</th>\n",
              "      <th>Album</th>\n",
              "      <th>Worldwide_Sales_Est</th>\n",
              "      <th>CDs</th>\n",
              "      <th>Tracks</th>\n",
              "      <th>Album_Length</th>\n",
              "      <th>Hours</th>\n",
              "      <th>Minutes</th>\n",
              "      <th>Seconds</th>\n",
              "      <th>Genre</th>\n",
              "    </tr>\n",
              "  </thead>\n",
              "  <tbody>\n",
              "    <tr>\n",
              "      <th>0</th>\n",
              "      <td>2019</td>\n",
              "      <td>8</td>\n",
              "      <td>Arashi</td>\n",
              "      <td>5x20 All The Best!! 1999-2019</td>\n",
              "      <td>3300000.0</td>\n",
              "      <td>4</td>\n",
              "      <td>67</td>\n",
              "      <td>5:04:02</td>\n",
              "      <td>5.07</td>\n",
              "      <td>304.03</td>\n",
              "      <td>18242</td>\n",
              "      <td>Pop</td>\n",
              "    </tr>\n",
              "    <tr>\n",
              "      <th>1</th>\n",
              "      <td>2017</td>\n",
              "      <td>8</td>\n",
              "      <td>Elton John</td>\n",
              "      <td>Diamonds</td>\n",
              "      <td>3220000.0</td>\n",
              "      <td>2</td>\n",
              "      <td>34</td>\n",
              "      <td>2:35:47</td>\n",
              "      <td>2.60</td>\n",
              "      <td>155.78</td>\n",
              "      <td>9347</td>\n",
              "      <td>Rock</td>\n",
              "    </tr>\n",
              "    <tr>\n",
              "      <th>2</th>\n",
              "      <td>1995</td>\n",
              "      <td>4</td>\n",
              "      <td>Michael Jackson</td>\n",
              "      <td>History: Past, Present &amp; Future Book I</td>\n",
              "      <td>20000000.0</td>\n",
              "      <td>2</td>\n",
              "      <td>30</td>\n",
              "      <td>2:28:51</td>\n",
              "      <td>2.48</td>\n",
              "      <td>148.85</td>\n",
              "      <td>8931</td>\n",
              "      <td>Pop</td>\n",
              "    </tr>\n",
              "    <tr>\n",
              "      <th>3</th>\n",
              "      <td>2015</td>\n",
              "      <td>6</td>\n",
              "      <td>Broadway Soundtrack</td>\n",
              "      <td>Hamilton</td>\n",
              "      <td>4835000.0</td>\n",
              "      <td>2</td>\n",
              "      <td>46</td>\n",
              "      <td>2:22:13</td>\n",
              "      <td>2.37</td>\n",
              "      <td>142.22</td>\n",
              "      <td>8533</td>\n",
              "      <td>Hip Hop</td>\n",
              "    </tr>\n",
              "    <tr>\n",
              "      <th>4</th>\n",
              "      <td>2003</td>\n",
              "      <td>10</td>\n",
              "      <td>Outkast</td>\n",
              "      <td>Speakerboxxx / The Love Below</td>\n",
              "      <td>7012000.0</td>\n",
              "      <td>2</td>\n",
              "      <td>39</td>\n",
              "      <td>2:14:39</td>\n",
              "      <td>2.24</td>\n",
              "      <td>134.65</td>\n",
              "      <td>8079</td>\n",
              "      <td>Hip Hop</td>\n",
              "    </tr>\n",
              "    <tr>\n",
              "      <th>...</th>\n",
              "      <td>...</td>\n",
              "      <td>...</td>\n",
              "      <td>...</td>\n",
              "      <td>...</td>\n",
              "      <td>...</td>\n",
              "      <td>...</td>\n",
              "      <td>...</td>\n",
              "      <td>...</td>\n",
              "      <td>...</td>\n",
              "      <td>...</td>\n",
              "      <td>...</td>\n",
              "      <td>...</td>\n",
              "    </tr>\n",
              "    <tr>\n",
              "      <th>315</th>\n",
              "      <td>2009</td>\n",
              "      <td>10</td>\n",
              "      <td>Justin Bieber</td>\n",
              "      <td>My World</td>\n",
              "      <td>3980000.0</td>\n",
              "      <td>1</td>\n",
              "      <td>7</td>\n",
              "      <td>0:25:58</td>\n",
              "      <td>0.43</td>\n",
              "      <td>25.97</td>\n",
              "      <td>1558</td>\n",
              "      <td>Pop</td>\n",
              "    </tr>\n",
              "    <tr>\n",
              "      <th>316</th>\n",
              "      <td>2019</td>\n",
              "      <td>9</td>\n",
              "      <td>R1SE</td>\n",
              "      <td>Going To Powerfully Burst</td>\n",
              "      <td>3080507.0</td>\n",
              "      <td>1</td>\n",
              "      <td>7</td>\n",
              "      <td>0:25:22</td>\n",
              "      <td>0.42</td>\n",
              "      <td>25.37</td>\n",
              "      <td>1522</td>\n",
              "      <td>Pop</td>\n",
              "    </tr>\n",
              "    <tr>\n",
              "      <th>317</th>\n",
              "      <td>2020</td>\n",
              "      <td>9</td>\n",
              "      <td>Blackpink</td>\n",
              "      <td>The Album</td>\n",
              "      <td>2947398.0</td>\n",
              "      <td>1</td>\n",
              "      <td>8</td>\n",
              "      <td>0:24:28</td>\n",
              "      <td>0.41</td>\n",
              "      <td>24.47</td>\n",
              "      <td>1468</td>\n",
              "      <td>Pop</td>\n",
              "    </tr>\n",
              "    <tr>\n",
              "      <th>318</th>\n",
              "      <td>2021</td>\n",
              "      <td>6</td>\n",
              "      <td>Cai Xukun</td>\n",
              "      <td>迷</td>\n",
              "      <td>3402981.0</td>\n",
              "      <td>1</td>\n",
              "      <td>11</td>\n",
              "      <td>0:24:16</td>\n",
              "      <td>0.40</td>\n",
              "      <td>24.27</td>\n",
              "      <td>1456</td>\n",
              "      <td>Hip Hop</td>\n",
              "    </tr>\n",
              "    <tr>\n",
              "      <th>319</th>\n",
              "      <td>2021</td>\n",
              "      <td>8</td>\n",
              "      <td>Seventeen</td>\n",
              "      <td>Attacca</td>\n",
              "      <td>2401368.0</td>\n",
              "      <td>1</td>\n",
              "      <td>6</td>\n",
              "      <td>0:19:26</td>\n",
              "      <td>0.32</td>\n",
              "      <td>19.43</td>\n",
              "      <td>1166</td>\n",
              "      <td>Pop</td>\n",
              "    </tr>\n",
              "  </tbody>\n",
              "</table>\n",
              "<p>320 rows × 12 columns</p>\n",
              "</div>\n",
              "      <button class=\"colab-df-convert\" onclick=\"convertToInteractive('df-6857973e-2183-4c4f-88fc-1bdbf9449748')\"\n",
              "              title=\"Convert this dataframe to an interactive table.\"\n",
              "              style=\"display:none;\">\n",
              "        \n",
              "  <svg xmlns=\"http://www.w3.org/2000/svg\" height=\"24px\"viewBox=\"0 0 24 24\"\n",
              "       width=\"24px\">\n",
              "    <path d=\"M0 0h24v24H0V0z\" fill=\"none\"/>\n",
              "    <path d=\"M18.56 5.44l.94 2.06.94-2.06 2.06-.94-2.06-.94-.94-2.06-.94 2.06-2.06.94zm-11 1L8.5 8.5l.94-2.06 2.06-.94-2.06-.94L8.5 2.5l-.94 2.06-2.06.94zm10 10l.94 2.06.94-2.06 2.06-.94-2.06-.94-.94-2.06-.94 2.06-2.06.94z\"/><path d=\"M17.41 7.96l-1.37-1.37c-.4-.4-.92-.59-1.43-.59-.52 0-1.04.2-1.43.59L10.3 9.45l-7.72 7.72c-.78.78-.78 2.05 0 2.83L4 21.41c.39.39.9.59 1.41.59.51 0 1.02-.2 1.41-.59l7.78-7.78 2.81-2.81c.8-.78.8-2.07 0-2.86zM5.41 20L4 18.59l7.72-7.72 1.47 1.35L5.41 20z\"/>\n",
              "  </svg>\n",
              "      </button>\n",
              "      \n",
              "  <style>\n",
              "    .colab-df-container {\n",
              "      display:flex;\n",
              "      flex-wrap:wrap;\n",
              "      gap: 12px;\n",
              "    }\n",
              "\n",
              "    .colab-df-convert {\n",
              "      background-color: #E8F0FE;\n",
              "      border: none;\n",
              "      border-radius: 50%;\n",
              "      cursor: pointer;\n",
              "      display: none;\n",
              "      fill: #1967D2;\n",
              "      height: 32px;\n",
              "      padding: 0 0 0 0;\n",
              "      width: 32px;\n",
              "    }\n",
              "\n",
              "    .colab-df-convert:hover {\n",
              "      background-color: #E2EBFA;\n",
              "      box-shadow: 0px 1px 2px rgba(60, 64, 67, 0.3), 0px 1px 3px 1px rgba(60, 64, 67, 0.15);\n",
              "      fill: #174EA6;\n",
              "    }\n",
              "\n",
              "    [theme=dark] .colab-df-convert {\n",
              "      background-color: #3B4455;\n",
              "      fill: #D2E3FC;\n",
              "    }\n",
              "\n",
              "    [theme=dark] .colab-df-convert:hover {\n",
              "      background-color: #434B5C;\n",
              "      box-shadow: 0px 1px 3px 1px rgba(0, 0, 0, 0.15);\n",
              "      filter: drop-shadow(0px 1px 2px rgba(0, 0, 0, 0.3));\n",
              "      fill: #FFFFFF;\n",
              "    }\n",
              "  </style>\n",
              "\n",
              "      <script>\n",
              "        const buttonEl =\n",
              "          document.querySelector('#df-6857973e-2183-4c4f-88fc-1bdbf9449748 button.colab-df-convert');\n",
              "        buttonEl.style.display =\n",
              "          google.colab.kernel.accessAllowed ? 'block' : 'none';\n",
              "\n",
              "        async function convertToInteractive(key) {\n",
              "          const element = document.querySelector('#df-6857973e-2183-4c4f-88fc-1bdbf9449748');\n",
              "          const dataTable =\n",
              "            await google.colab.kernel.invokeFunction('convertToInteractive',\n",
              "                                                     [key], {});\n",
              "          if (!dataTable) return;\n",
              "\n",
              "          const docLinkHtml = 'Like what you see? Visit the ' +\n",
              "            '<a target=\"_blank\" href=https://colab.research.google.com/notebooks/data_table.ipynb>data table notebook</a>'\n",
              "            + ' to learn more about interactive tables.';\n",
              "          element.innerHTML = '';\n",
              "          dataTable['output_type'] = 'display_data';\n",
              "          await google.colab.output.renderOutput(dataTable, element);\n",
              "          const docLink = document.createElement('div');\n",
              "          docLink.innerHTML = docLinkHtml;\n",
              "          element.appendChild(docLink);\n",
              "        }\n",
              "      </script>\n",
              "    </div>\n",
              "  </div>\n",
              "  "
            ]
          },
          "metadata": {}
        }
      ],
      "source": [
        "# vendo de novo a base agora modificada\n",
        "display(dados)"
      ]
    },
    {
      "cell_type": "markdown",
      "metadata": {
        "id": "xxTZ1H3Vy2xo"
      },
      "source": [
        "## **Fase 2 - Manipulação das medidas descritivas e de dispersão dos dados**"
      ]
    },
    {
      "cell_type": "code",
      "execution_count": null,
      "metadata": {
        "colab": {
          "base_uri": "https://localhost:8080/",
          "height": 300
        },
        "id": "6HrelXREDaOL",
        "outputId": "30387038-a589-4df4-f814-9df5282358c2"
      },
      "outputs": [
        {
          "output_type": "execute_result",
          "data": {
            "text/plain": [
              "              Year    Ranking  Worldwide_Sales_Est         CDs      Tracks  \\\n",
              "count   320.000000  320.00000         3.200000e+02  320.000000  320.000000   \n",
              "mean   2005.500000    5.50000         1.070507e+07    1.043750   14.306250   \n",
              "std       9.247553    2.87678         7.555652e+06    0.246528    5.868995   \n",
              "min    1990.000000    1.00000         1.909009e+06    1.000000    6.000000   \n",
              "25%    1997.750000    3.00000         5.000000e+06    1.000000   12.000000   \n",
              "50%    2005.500000    5.50000         8.276933e+06    1.000000   13.000000   \n",
              "75%    2013.250000    8.00000         1.400000e+07    1.000000   15.000000   \n",
              "max    2021.000000   10.00000         4.500000e+07    4.000000   67.000000   \n",
              "\n",
              "            Hours     Minutes       Seconds  \n",
              "count  320.000000  320.000000    320.000000  \n",
              "mean     0.941406   56.478500   3388.715625  \n",
              "std      0.382895   22.970109   1378.209812  \n",
              "min      0.320000   19.430000   1166.000000  \n",
              "25%      0.740000   44.137500   2648.250000  \n",
              "50%      0.860000   51.555000   3093.500000  \n",
              "75%      1.090000   65.112500   3906.750000  \n",
              "max      5.070000  304.030000  18242.000000  "
            ],
            "text/html": [
              "\n",
              "  <div id=\"df-cbb0a107-cc80-4f68-88c7-678c9ef781c0\">\n",
              "    <div class=\"colab-df-container\">\n",
              "      <div>\n",
              "<style scoped>\n",
              "    .dataframe tbody tr th:only-of-type {\n",
              "        vertical-align: middle;\n",
              "    }\n",
              "\n",
              "    .dataframe tbody tr th {\n",
              "        vertical-align: top;\n",
              "    }\n",
              "\n",
              "    .dataframe thead th {\n",
              "        text-align: right;\n",
              "    }\n",
              "</style>\n",
              "<table border=\"1\" class=\"dataframe\">\n",
              "  <thead>\n",
              "    <tr style=\"text-align: right;\">\n",
              "      <th></th>\n",
              "      <th>Year</th>\n",
              "      <th>Ranking</th>\n",
              "      <th>Worldwide_Sales_Est</th>\n",
              "      <th>CDs</th>\n",
              "      <th>Tracks</th>\n",
              "      <th>Hours</th>\n",
              "      <th>Minutes</th>\n",
              "      <th>Seconds</th>\n",
              "    </tr>\n",
              "  </thead>\n",
              "  <tbody>\n",
              "    <tr>\n",
              "      <th>count</th>\n",
              "      <td>320.000000</td>\n",
              "      <td>320.00000</td>\n",
              "      <td>3.200000e+02</td>\n",
              "      <td>320.000000</td>\n",
              "      <td>320.000000</td>\n",
              "      <td>320.000000</td>\n",
              "      <td>320.000000</td>\n",
              "      <td>320.000000</td>\n",
              "    </tr>\n",
              "    <tr>\n",
              "      <th>mean</th>\n",
              "      <td>2005.500000</td>\n",
              "      <td>5.50000</td>\n",
              "      <td>1.070507e+07</td>\n",
              "      <td>1.043750</td>\n",
              "      <td>14.306250</td>\n",
              "      <td>0.941406</td>\n",
              "      <td>56.478500</td>\n",
              "      <td>3388.715625</td>\n",
              "    </tr>\n",
              "    <tr>\n",
              "      <th>std</th>\n",
              "      <td>9.247553</td>\n",
              "      <td>2.87678</td>\n",
              "      <td>7.555652e+06</td>\n",
              "      <td>0.246528</td>\n",
              "      <td>5.868995</td>\n",
              "      <td>0.382895</td>\n",
              "      <td>22.970109</td>\n",
              "      <td>1378.209812</td>\n",
              "    </tr>\n",
              "    <tr>\n",
              "      <th>min</th>\n",
              "      <td>1990.000000</td>\n",
              "      <td>1.00000</td>\n",
              "      <td>1.909009e+06</td>\n",
              "      <td>1.000000</td>\n",
              "      <td>6.000000</td>\n",
              "      <td>0.320000</td>\n",
              "      <td>19.430000</td>\n",
              "      <td>1166.000000</td>\n",
              "    </tr>\n",
              "    <tr>\n",
              "      <th>25%</th>\n",
              "      <td>1997.750000</td>\n",
              "      <td>3.00000</td>\n",
              "      <td>5.000000e+06</td>\n",
              "      <td>1.000000</td>\n",
              "      <td>12.000000</td>\n",
              "      <td>0.740000</td>\n",
              "      <td>44.137500</td>\n",
              "      <td>2648.250000</td>\n",
              "    </tr>\n",
              "    <tr>\n",
              "      <th>50%</th>\n",
              "      <td>2005.500000</td>\n",
              "      <td>5.50000</td>\n",
              "      <td>8.276933e+06</td>\n",
              "      <td>1.000000</td>\n",
              "      <td>13.000000</td>\n",
              "      <td>0.860000</td>\n",
              "      <td>51.555000</td>\n",
              "      <td>3093.500000</td>\n",
              "    </tr>\n",
              "    <tr>\n",
              "      <th>75%</th>\n",
              "      <td>2013.250000</td>\n",
              "      <td>8.00000</td>\n",
              "      <td>1.400000e+07</td>\n",
              "      <td>1.000000</td>\n",
              "      <td>15.000000</td>\n",
              "      <td>1.090000</td>\n",
              "      <td>65.112500</td>\n",
              "      <td>3906.750000</td>\n",
              "    </tr>\n",
              "    <tr>\n",
              "      <th>max</th>\n",
              "      <td>2021.000000</td>\n",
              "      <td>10.00000</td>\n",
              "      <td>4.500000e+07</td>\n",
              "      <td>4.000000</td>\n",
              "      <td>67.000000</td>\n",
              "      <td>5.070000</td>\n",
              "      <td>304.030000</td>\n",
              "      <td>18242.000000</td>\n",
              "    </tr>\n",
              "  </tbody>\n",
              "</table>\n",
              "</div>\n",
              "      <button class=\"colab-df-convert\" onclick=\"convertToInteractive('df-cbb0a107-cc80-4f68-88c7-678c9ef781c0')\"\n",
              "              title=\"Convert this dataframe to an interactive table.\"\n",
              "              style=\"display:none;\">\n",
              "        \n",
              "  <svg xmlns=\"http://www.w3.org/2000/svg\" height=\"24px\"viewBox=\"0 0 24 24\"\n",
              "       width=\"24px\">\n",
              "    <path d=\"M0 0h24v24H0V0z\" fill=\"none\"/>\n",
              "    <path d=\"M18.56 5.44l.94 2.06.94-2.06 2.06-.94-2.06-.94-.94-2.06-.94 2.06-2.06.94zm-11 1L8.5 8.5l.94-2.06 2.06-.94-2.06-.94L8.5 2.5l-.94 2.06-2.06.94zm10 10l.94 2.06.94-2.06 2.06-.94-2.06-.94-.94-2.06-.94 2.06-2.06.94z\"/><path d=\"M17.41 7.96l-1.37-1.37c-.4-.4-.92-.59-1.43-.59-.52 0-1.04.2-1.43.59L10.3 9.45l-7.72 7.72c-.78.78-.78 2.05 0 2.83L4 21.41c.39.39.9.59 1.41.59.51 0 1.02-.2 1.41-.59l7.78-7.78 2.81-2.81c.8-.78.8-2.07 0-2.86zM5.41 20L4 18.59l7.72-7.72 1.47 1.35L5.41 20z\"/>\n",
              "  </svg>\n",
              "      </button>\n",
              "      \n",
              "  <style>\n",
              "    .colab-df-container {\n",
              "      display:flex;\n",
              "      flex-wrap:wrap;\n",
              "      gap: 12px;\n",
              "    }\n",
              "\n",
              "    .colab-df-convert {\n",
              "      background-color: #E8F0FE;\n",
              "      border: none;\n",
              "      border-radius: 50%;\n",
              "      cursor: pointer;\n",
              "      display: none;\n",
              "      fill: #1967D2;\n",
              "      height: 32px;\n",
              "      padding: 0 0 0 0;\n",
              "      width: 32px;\n",
              "    }\n",
              "\n",
              "    .colab-df-convert:hover {\n",
              "      background-color: #E2EBFA;\n",
              "      box-shadow: 0px 1px 2px rgba(60, 64, 67, 0.3), 0px 1px 3px 1px rgba(60, 64, 67, 0.15);\n",
              "      fill: #174EA6;\n",
              "    }\n",
              "\n",
              "    [theme=dark] .colab-df-convert {\n",
              "      background-color: #3B4455;\n",
              "      fill: #D2E3FC;\n",
              "    }\n",
              "\n",
              "    [theme=dark] .colab-df-convert:hover {\n",
              "      background-color: #434B5C;\n",
              "      box-shadow: 0px 1px 3px 1px rgba(0, 0, 0, 0.15);\n",
              "      filter: drop-shadow(0px 1px 2px rgba(0, 0, 0, 0.3));\n",
              "      fill: #FFFFFF;\n",
              "    }\n",
              "  </style>\n",
              "\n",
              "      <script>\n",
              "        const buttonEl =\n",
              "          document.querySelector('#df-cbb0a107-cc80-4f68-88c7-678c9ef781c0 button.colab-df-convert');\n",
              "        buttonEl.style.display =\n",
              "          google.colab.kernel.accessAllowed ? 'block' : 'none';\n",
              "\n",
              "        async function convertToInteractive(key) {\n",
              "          const element = document.querySelector('#df-cbb0a107-cc80-4f68-88c7-678c9ef781c0');\n",
              "          const dataTable =\n",
              "            await google.colab.kernel.invokeFunction('convertToInteractive',\n",
              "                                                     [key], {});\n",
              "          if (!dataTable) return;\n",
              "\n",
              "          const docLinkHtml = 'Like what you see? Visit the ' +\n",
              "            '<a target=\"_blank\" href=https://colab.research.google.com/notebooks/data_table.ipynb>data table notebook</a>'\n",
              "            + ' to learn more about interactive tables.';\n",
              "          element.innerHTML = '';\n",
              "          dataTable['output_type'] = 'display_data';\n",
              "          await google.colab.output.renderOutput(dataTable, element);\n",
              "          const docLink = document.createElement('div');\n",
              "          docLink.innerHTML = docLinkHtml;\n",
              "          element.appendChild(docLink);\n",
              "        }\n",
              "      </script>\n",
              "    </div>\n",
              "  </div>\n",
              "  "
            ]
          },
          "metadata": {},
          "execution_count": 10
        }
      ],
      "source": [
        "# vendo o resumo de todas as medidas descritivas dos dados\n",
        "dados.describe()"
      ]
    },
    {
      "cell_type": "code",
      "execution_count": null,
      "metadata": {
        "colab": {
          "base_uri": "https://localhost:8080/"
        },
        "id": "hqJREZhxzih3",
        "outputId": "0f7a0e45-3601-4169-bcdc-1fa28c1b222d"
      },
      "outputs": [
        {
          "output_type": "execute_result",
          "data": {
            "text/plain": [
              "54.0"
            ]
          },
          "metadata": {},
          "execution_count": 11
        }
      ],
      "source": [
        "# média da duração dos álbuns ranking 1 em minutos\n",
        "dados[dados.Ranking==1].Minutes.mean()"
      ]
    },
    {
      "cell_type": "code",
      "execution_count": null,
      "metadata": {
        "colab": {
          "base_uri": "https://localhost:8080/"
        },
        "id": "TT8wwCjQIduy",
        "outputId": "a49ca471-14dc-48e5-f67e-b95cec9423a7"
      },
      "outputs": [
        {
          "output_type": "execute_result",
          "data": {
            "text/plain": [
              "11.711553435431517"
            ]
          },
          "metadata": {},
          "execution_count": 12
        }
      ],
      "source": [
        "# desvio padrão da duração dos álbuns ranking 1 em minutos\n",
        "dados[dados.Ranking==1].Minutes.std()"
      ]
    },
    {
      "cell_type": "code",
      "execution_count": null,
      "metadata": {
        "colab": {
          "base_uri": "https://localhost:8080/"
        },
        "id": "14LiqQRm4HI9",
        "outputId": "29270e8e-735d-4af5-aec1-39467b5f9b53"
      },
      "outputs": [
        {
          "output_type": "execute_result",
          "data": {
            "text/plain": [
              "56.47850000000001"
            ]
          },
          "metadata": {},
          "execution_count": 13
        }
      ],
      "source": [
        "# média da duração de todos os álbuns em minutos\n",
        "dados.Minutes.mean()"
      ]
    },
    {
      "cell_type": "code",
      "execution_count": null,
      "metadata": {
        "colab": {
          "base_uri": "https://localhost:8080/"
        },
        "id": "i54s1quB-EPW",
        "outputId": "bcefdb37-8f5e-46ef-b783-091288e925b1"
      },
      "outputs": [
        {
          "output_type": "execute_result",
          "data": {
            "text/plain": [
              "10705072.59375"
            ]
          },
          "metadata": {},
          "execution_count": 14
        }
      ],
      "source": [
        "# média da venda de todos os álbuns\n",
        "dados[\"Worldwide_Sales_Est\"].mean()"
      ]
    },
    {
      "cell_type": "code",
      "execution_count": null,
      "metadata": {
        "colab": {
          "base_uri": "https://localhost:8080/"
        },
        "id": "Qfc1rGjd-9G2",
        "outputId": "517dc3a4-d13e-463d-d457-82a8ae0b7161"
      },
      "outputs": [
        {
          "output_type": "execute_result",
          "data": {
            "text/plain": [
              "20240107.9375"
            ]
          },
          "metadata": {},
          "execution_count": 15
        }
      ],
      "source": [
        "# média da venda de todos os álbuns ranking 1\n",
        "dados[dados.Ranking==1].Worldwide_Sales_Est.mean()"
      ]
    },
    {
      "cell_type": "code",
      "execution_count": null,
      "metadata": {
        "colab": {
          "base_uri": "https://localhost:8080/"
        },
        "id": "TOXYQf01Bd2N",
        "outputId": "e70273e4-8dd9-4f52-c03f-105d3d9fbb0c"
      },
      "outputs": [
        {
          "output_type": "execute_result",
          "data": {
            "text/plain": [
              "Pop          136\n",
              "Rock          86\n",
              "Hip Hop       42\n",
              "Country       22\n",
              "R&B           21\n",
              "World          6\n",
              "Classical      4\n",
              "Jazz           1\n",
              "Blues          1\n",
              "EDM            1\n",
              "Name: Genre, dtype: int64"
            ]
          },
          "metadata": {},
          "execution_count": 16
        }
      ],
      "source": [
        "# quantidade de álbuns por gênero\n",
        "dados.Genre.value_counts()"
      ]
    },
    {
      "cell_type": "code",
      "execution_count": null,
      "metadata": {
        "colab": {
          "base_uri": "https://localhost:8080/"
        },
        "id": "epY5zZ0UBt2E",
        "outputId": "1cd77722-8270-454b-a90b-574080ffce60"
      },
      "outputs": [
        {
          "output_type": "execute_result",
          "data": {
            "text/plain": [
              "Pop        19\n",
              "Rock        7\n",
              "Hip Hop     3\n",
              "R&B         2\n",
              "Country     1\n",
              "Name: Genre, dtype: int64"
            ]
          },
          "metadata": {},
          "execution_count": 17
        }
      ],
      "source": [
        "# quais gêneros estão no ranking 1 dos álbuns dos últimos anos\n",
        "dados[dados.Ranking==1].Genre.value_counts()"
      ]
    },
    {
      "cell_type": "markdown",
      "metadata": {
        "id": "JUfXmY4iEckG"
      },
      "source": [
        "## **Fase 3 - Analisar os dados a partir dos gráficos**"
      ]
    },
    {
      "cell_type": "markdown",
      "source": [
        "\n",
        "\n",
        "*   Importando as bibliotecas necessárias\n"
      ],
      "metadata": {
        "id": "1O3PuY3ZFTU3"
      }
    },
    {
      "cell_type": "code",
      "execution_count": null,
      "metadata": {
        "id": "blT-NypcEfra"
      },
      "outputs": [],
      "source": [
        "import matplotlib.pyplot as plt\n",
        "import seaborn as sns"
      ]
    },
    {
      "cell_type": "code",
      "execution_count": null,
      "metadata": {
        "id": "MVbHhwwALfA3"
      },
      "outputs": [],
      "source": [
        "# gerando um arquivo excel (xlsx) das medidas descritivas da duração por minutos dos álbuns agrupados por gênero\n",
        "dados3 = dados.groupby(['Genre']).Minutes.describe().to_excel(\"tabela por gênero e duração do álbum.xlsx\")"
      ]
    },
    {
      "cell_type": "code",
      "source": [
        "# gráfico da média de duração em minutos de todos os álbuns por ano\n",
        "dados2 = dados.groupby(['Year']).Minutes.median()\n",
        "plt.figure(figsize=(15, 6))\n",
        "plt.style.use('ggplot')\n",
        "sns.lineplot(data=dados2) \n",
        "sns.set_context(\"paper\")\n",
        "plt.show()"
      ],
      "metadata": {
        "colab": {
          "base_uri": "https://localhost:8080/",
          "height": 391
        },
        "id": "dMblbVo1VE6R",
        "outputId": "6cd313a6-029c-4f4d-95d9-b315a39d91c0"
      },
      "execution_count": null,
      "outputs": [
        {
          "output_type": "display_data",
          "data": {
            "text/plain": [
              "<Figure size 1080x432 with 1 Axes>"
            ],
            "image/png": "[encoded data removed]"
          },
          "metadata": {
            "needs_background": "light"
          }
        }
      ]
    },
    {
      "cell_type": "code",
      "source": [
        "# média individual de cada ano\n",
        "display(dados2)"
      ],
      "metadata": {
        "colab": {
          "base_uri": "https://localhost:8080/",
          "height": 644
        },
        "id": "edIiey25VW4h",
        "outputId": "97f2b49f-1f5e-408e-cda3-56d04b4ff85b"
      },
      "execution_count": null,
      "outputs": [
        {
          "output_type": "display_data",
          "data": {
            "text/plain": [
              "Year\n",
              "1990    55.985\n",
              "1991    67.085\n",
              "1992    55.690\n",
              "1993    62.285\n",
              "1994    52.165\n",
              "1995    59.010\n",
              "1996    56.930\n",
              "1997    57.285\n",
              "1998    66.650\n",
              "1999    54.125\n",
              "2000    47.565\n",
              "2001    50.115\n",
              "2002    68.085\n",
              "2003    55.740\n",
              "2004    48.750\n",
              "2005    55.270\n",
              "2006    56.165\n",
              "2007    52.515\n",
              "2008    46.425\n",
              "2009    46.875\n",
              "2010    46.690\n",
              "2011    48.950\n",
              "2012    49.200\n",
              "2013    49.490\n",
              "2014    44.060\n",
              "2015    48.310\n",
              "2016    46.425\n",
              "2017    45.600\n",
              "2018    61.490\n",
              "2019    48.210\n",
              "2020    56.500\n",
              "2021    41.410\n",
              "Name: Minutes, dtype: float64"
            ]
          },
          "metadata": {}
        }
      ]
    },
    {
      "cell_type": "code",
      "execution_count": null,
      "metadata": {
        "colab": {
          "base_uri": "https://localhost:8080/",
          "height": 280
        },
        "id": "ZJtacN9OFKyb",
        "outputId": "b7e393ca-ccf3-42c4-93ca-4dafa9e6480d"
      },
      "outputs": [
        {
          "output_type": "display_data",
          "data": {
            "text/plain": [
              "<Figure size 432x288 with 1 Axes>"
            ],
            "image/png": "[encoded data removed]"
          },
          "metadata": {}
        }
      ],
      "source": [
        "# gráfico da duração em minutos dos álbuns ranking 3\n",
        "sns.boxplot(x=dados[dados.Ranking>=3].Minutes)\n",
        "plt.rcParams[\"figure.figsize\"] = [11, 5]\n",
        "plt.show()"
      ]
    },
    {
      "cell_type": "code",
      "source": [
        "# gráfico da duração dos álbuns pop em todos os anos analisados\n",
        "dados3 = dados[dados.Genre==\"Pop\"]\n",
        "plt.figure(figsize=(15, 6))\n",
        "sns.scatterplot(data=dados3, x=\"Minutes\", y=\"Year\")\n",
        "plt.show()"
      ],
      "metadata": {
        "colab": {
          "base_uri": "https://localhost:8080/",
          "height": 388
        },
        "id": "vQi67euNtfV9",
        "outputId": "b61db1a7-0052-4552-996d-95bfbdf9c984"
      },
      "execution_count": null,
      "outputs": [
        {
          "output_type": "display_data",
          "data": {
            "text/plain": [
              "<Figure size 1080x432 with 1 Axes>"
            ],
            "image/png": "[encoded data removed]"
          },
          "metadata": {}
        }
      ]
    }
  ],
  "metadata": {
    "colab": {
      "collapsed_sections": [],
      "provenance": []
    },
    "kernelspec": {
      "display_name": "Python 3",
      "name": "python3"
    },
    "language_info": {
      "name": "python"
    }
  },
  "nbformat": 4,
  "nbformat_minor": 0
}